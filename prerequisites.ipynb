{
  "cells": [
    {
      "cell_type": "code",
      "execution_count": 3,
      "metadata": {
        "id": "TQebkWkz12a9"
      },
      "outputs": [
        {
          "name": "stdout",
          "output_type": "stream",
          "text": [
            "\n",
            "Saved under spark-3.2.1-bin-hadoop3.2.tgz\n",
            "        1 file(s) moved.\n",
            "        1 dir(s) moved.\n",
            "Note: you may need to restart the kernel to use updated packages.\n"
          ]
        }
      ],
      "source": [
        "\n",
        "!python -m wget https://mirrors.estointernet.in/apache/spark/spark-3.2.1/spark-3.2.1-bin-hadoop3.2.tgz\n",
        "\n",
        "!move spark-3.2.1-bin-hadoop3.2.tgz spark/spark3.tgz\n",
        "\n",
        "!tar xzf spark/spark3.tgz\n",
        "\n",
        "!move spark-3.2.1-bin-hadoop3.2 spark/spark-3.2.1-bin-hadoop3.2\n",
        "\n",
        "%pip install -q findspark"
      ]
    },
    {
      "cell_type": "code",
      "execution_count": 2,
      "metadata": {},
      "outputs": [
        {
          "name": "stdout",
          "output_type": "stream",
          "text": [
            "Requirement already satisfied: patool in d:\\fake-news-detection\\venv\\lib\\site-packages (1.12)\n",
            "Note: you may need to restart the kernel to use updated packages.\n",
            "patool: Extracting data/train.rar ...\n",
            "patool: running \"C:\\Program Files\\WinRAR\\rar.EXE\" x -- d:\\Fake-News-Detection\\data\\train.rar\n",
            "patool:     with cwd=toDelete/\n",
            "patool: ... data/train.rar extracted to `toDelete/'.\n"
          ]
        },
        {
          "data": {
            "text/plain": [
              "'toDelete/'"
            ]
          },
          "execution_count": 2,
          "metadata": {},
          "output_type": "execute_result"
        }
      ],
      "source": [
        "%pip install patool\n",
        "import patoolib\n",
        "patoolib.extract_archive(\"data/train.rar\", outdir=\"data/\")"
      ]
    }
  ],
  "metadata": {
    "colab": {
      "provenance": []
    },
    "kernelspec": {
      "display_name": "Python 3",
      "name": "python3"
    },
    "language_info": {
      "codemirror_mode": {
        "name": "ipython",
        "version": 3
      },
      "file_extension": ".py",
      "mimetype": "text/x-python",
      "name": "python",
      "nbconvert_exporter": "python",
      "pygments_lexer": "ipython3",
      "version": "3.10.9"
    }
  },
  "nbformat": 4,
  "nbformat_minor": 0
}
