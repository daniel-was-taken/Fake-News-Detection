{
  "cells": [
    {
      "cell_type": "code",
      "execution_count": 3,
      "metadata": {
        "id": "TQebkWkz12a9"
      },
      "outputs": [
        {
          "name": "stdout",
          "output_type": "stream",
          "text": [
            "\n",
            "Saved under spark-3.2.1-bin-hadoop3.2.tgz\n",
            "        1 file(s) moved.\n",
            "        1 dir(s) moved.\n",
            "Note: you may need to restart the kernel to use updated packages.\n"
          ]
        }
      ],
      "source": [
        "!mkdir spark\n",
        "!python -m wget https://mirrors.estointernet.in/apache/spark/spark-3.2.1/spark-3.2.1-bin-hadoop3.2.tgz\n",
        "\n",
        "!move spark-3.2.1-bin-hadoop3.2.tgz spark/spark3.tgz\n",
        "\n",
        "!tar xzf spark/spark3.tgz\n",
        "\n",
        "!move spark-3.2.1-bin-hadoop3.2 spark/spark-3.2.1-bin-hadoop3.2\n",
        "\n",
        "%pip install -q findspark"
      ]
    },
    {
      "cell_type": "code",
      "execution_count": 6,
      "metadata": {},
      "outputs": [
        {
          "name": "stdout",
          "output_type": "stream",
          "text": [
            "Requirement already satisfied: patool in c:\\users\\divye\\onedrive\\desktop\\fake-news-detection\\venv\\lib\\site-packages (1.12)\n",
            "Note: you may need to restart the kernel to use updated packages.\n",
            "Requirement already satisfied: unrar in c:\\users\\divye\\onedrive\\desktop\\fake-news-detection\\venv\\lib\\site-packages (0.4)\n",
            "Note: you may need to restart the kernel to use updated packages.\n",
            "patool: Extracting train.rar ...\n"
          ]
        },
        {
          "ename": "PatoolError",
          "evalue": "could not find an executable program to extract format rar; candidates are (rar,unrar,7z),",
          "output_type": "error",
          "traceback": [
            "\u001b[1;31m---------------------------------------------------------------------------\u001b[0m",
            "\u001b[1;31mPatoolError\u001b[0m                               Traceback (most recent call last)",
            "\u001b[1;32mc:\\Users\\divye\\OneDrive\\Desktop\\Fake-News-Detection\\prerequisites.ipynb Cell 2\u001b[0m line \u001b[0;36m4\n\u001b[0;32m      <a href='vscode-notebook-cell:/c%3A/Users/divye/OneDrive/Desktop/Fake-News-Detection/prerequisites.ipynb#W1sZmlsZQ%3D%3D?line=1'>2</a>\u001b[0m get_ipython()\u001b[39m.\u001b[39mrun_line_magic(\u001b[39m'\u001b[39m\u001b[39mpip\u001b[39m\u001b[39m'\u001b[39m, \u001b[39m'\u001b[39m\u001b[39minstall unrar\u001b[39m\u001b[39m'\u001b[39m)\n\u001b[0;32m      <a href='vscode-notebook-cell:/c%3A/Users/divye/OneDrive/Desktop/Fake-News-Detection/prerequisites.ipynb#W1sZmlsZQ%3D%3D?line=2'>3</a>\u001b[0m \u001b[39mimport\u001b[39;00m \u001b[39mpatoolib\u001b[39;00m\n\u001b[1;32m----> <a href='vscode-notebook-cell:/c%3A/Users/divye/OneDrive/Desktop/Fake-News-Detection/prerequisites.ipynb#W1sZmlsZQ%3D%3D?line=3'>4</a>\u001b[0m patoolib\u001b[39m.\u001b[39;49mextract_archive(\u001b[39m\"\u001b[39;49m\u001b[39mtrain.rar\u001b[39;49m\u001b[39m\"\u001b[39;49m, outdir\u001b[39m=\u001b[39;49m\u001b[39m\"\u001b[39;49m\u001b[39mdata/\u001b[39;49m\u001b[39m\"\u001b[39;49m)\n",
            "File \u001b[1;32mc:\\Users\\divye\\OneDrive\\Desktop\\Fake-News-Detection\\venv\\Lib\\site-packages\\patoolib\\__init__.py:684\u001b[0m, in \u001b[0;36mextract_archive\u001b[1;34m(archive, verbosity, outdir, program, interactive)\u001b[0m\n\u001b[0;32m    682\u001b[0m \u001b[39mif\u001b[39;00m verbosity \u001b[39m>\u001b[39m\u001b[39m=\u001b[39m \u001b[39m0\u001b[39m:\n\u001b[0;32m    683\u001b[0m     util\u001b[39m.\u001b[39mlog_info(\u001b[39m\"\u001b[39m\u001b[39mExtracting \u001b[39m\u001b[39m%s\u001b[39;00m\u001b[39m ...\u001b[39m\u001b[39m\"\u001b[39m \u001b[39m%\u001b[39m archive)\n\u001b[1;32m--> 684\u001b[0m \u001b[39mreturn\u001b[39;00m _extract_archive(archive, verbosity\u001b[39m=\u001b[39;49mverbosity, interactive\u001b[39m=\u001b[39;49minteractive, outdir\u001b[39m=\u001b[39;49moutdir, program\u001b[39m=\u001b[39;49mprogram)\n",
            "File \u001b[1;32mc:\\Users\\divye\\OneDrive\\Desktop\\Fake-News-Detection\\venv\\Lib\\site-packages\\patoolib\\__init__.py:470\u001b[0m, in \u001b[0;36m_extract_archive\u001b[1;34m(archive, verbosity, interactive, outdir, program, format, compression)\u001b[0m\n\u001b[0;32m    468\u001b[0m     \u001b[39mformat\u001b[39m, compression \u001b[39m=\u001b[39m get_archive_format(archive)\n\u001b[0;32m    469\u001b[0m check_archive_format(\u001b[39mformat\u001b[39m, compression)\n\u001b[1;32m--> 470\u001b[0m program \u001b[39m=\u001b[39m find_archive_program(\u001b[39mformat\u001b[39;49m, \u001b[39m'\u001b[39;49m\u001b[39mextract\u001b[39;49m\u001b[39m'\u001b[39;49m, program\u001b[39m=\u001b[39;49mprogram)\n\u001b[0;32m    471\u001b[0m check_program_compression(archive, \u001b[39m'\u001b[39m\u001b[39mextract\u001b[39m\u001b[39m'\u001b[39m, program, compression)\n\u001b[0;32m    472\u001b[0m get_archive_cmdlist \u001b[39m=\u001b[39m get_archive_cmdlist_func(program, \u001b[39m'\u001b[39m\u001b[39mextract\u001b[39m\u001b[39m'\u001b[39m, \u001b[39mformat\u001b[39m)\n",
            "File \u001b[1;32mc:\\Users\\divye\\OneDrive\\Desktop\\Fake-News-Detection\\venv\\Lib\\site-packages\\patoolib\\__init__.py:336\u001b[0m, in \u001b[0;36mfind_archive_program\u001b[1;34m(format, command, program)\u001b[0m\n\u001b[0;32m    334\u001b[0m         \u001b[39mreturn\u001b[39;00m exe\n\u001b[0;32m    335\u001b[0m \u001b[39m# no programs found\u001b[39;00m\n\u001b[1;32m--> 336\u001b[0m \u001b[39mraise\u001b[39;00m util\u001b[39m.\u001b[39mPatoolError(\u001b[39m\"\u001b[39m\u001b[39mcould not find an executable program to \u001b[39m\u001b[39m%s\u001b[39;00m\u001b[39m format \u001b[39m\u001b[39m%s\u001b[39;00m\u001b[39m; candidates are (\u001b[39m\u001b[39m%s\u001b[39;00m\u001b[39m),\u001b[39m\u001b[39m\"\u001b[39m \u001b[39m%\u001b[39m (command, \u001b[39mformat\u001b[39m, \u001b[39m\"\u001b[39m\u001b[39m,\u001b[39m\u001b[39m\"\u001b[39m\u001b[39m.\u001b[39mjoin(programs)))\n",
            "\u001b[1;31mPatoolError\u001b[0m: could not find an executable program to extract format rar; candidates are (rar,unrar,7z),"
          ]
        }
      ],
      "source": [
        "%pip install patool\n",
        "%pip install unrar\n",
        "import patoolib\n",
        "patoolib.extract_archive(\"train.rar\", outdir=\"data/\")"
      ]
    }
  ],
  "metadata": {
    "colab": {
      "provenance": []
    },
    "kernelspec": {
      "display_name": "Python 3",
      "name": "python3"
    },
    "language_info": {
      "codemirror_mode": {
        "name": "ipython",
        "version": 3
      },
      "file_extension": ".py",
      "mimetype": "text/x-python",
      "name": "python",
      "nbconvert_exporter": "python",
      "pygments_lexer": "ipython3",
      "version": "3.11.0"
    }
  },
  "nbformat": 4,
  "nbformat_minor": 0
}
