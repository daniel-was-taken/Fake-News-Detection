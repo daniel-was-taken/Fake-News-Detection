{
  "cells": [
    {
      "cell_type": "code",
      "execution_count": null,
      "metadata": {
        "id": "TQebkWkz12a9"
      },
      "outputs": [],
      "source": [
        "\n",
        "!python -m wget https://mirrors.estointernet.in/apache/spark/spark-3.2.1/spark-3.2.1-bin-hadoop3.2.tgz\n",
        "\n",
        "!move spark-3.2.1-bin-hadoop3.2.tgz spark/spark3.tgz\n",
        "\n",
        "!tar xzf spark/spark3.tgz\n",
        "\n",
        "!move spark-3.2.1-bin-hadoop3.2 spark/spark-3.2.1-bin-hadoop3.2\n",
        "\n",
        "%pip install -q findspark"
      ]
    },
    {
      "cell_type": "code",
      "execution_count": null,
      "metadata": {},
      "outputs": [],
      "source": [
        "%pip install patool\n",
        "import patoolib\n",
        "patoolib.extract_archive(\"train.rar\", outdir=\"data/\")"
      ]
    }
  ],
  "metadata": {
    "colab": {
      "provenance": []
    },
    "kernelspec": {
      "display_name": "Python 3",
      "name": "python3"
    },
    "language_info": {
      "codemirror_mode": {
        "name": "ipython",
        "version": 3
      },
      "file_extension": ".py",
      "mimetype": "text/x-python",
      "name": "python",
      "nbconvert_exporter": "python",
      "pygments_lexer": "ipython3",
      "version": "3.10.9"
    }
  },
  "nbformat": 4,
  "nbformat_minor": 0
}
